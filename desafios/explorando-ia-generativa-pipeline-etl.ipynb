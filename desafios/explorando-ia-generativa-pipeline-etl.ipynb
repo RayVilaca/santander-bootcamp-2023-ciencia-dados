{
 "cells": [
  {
   "cell_type": "markdown",
   "metadata": {},
   "source": [
    "### Importa as bibliotecas"
   ]
  },
  {
   "cell_type": "code",
   "execution_count": 37,
   "metadata": {},
   "outputs": [],
   "source": [
    "import pandas as pd\n",
    "import requests\n",
    "import json"
   ]
  },
  {
   "cell_type": "markdown",
   "metadata": {},
   "source": [
    "### Funções"
   ]
  },
  {
   "cell_type": "code",
   "execution_count": 38,
   "metadata": {},
   "outputs": [],
   "source": [
    "sdw2023_api_url = 'https://sdw-2023-prd.up.railway.app'"
   ]
  },
  {
   "cell_type": "code",
   "execution_count": 39,
   "metadata": {},
   "outputs": [],
   "source": [
    "def get_user(id):\n",
    "    response = requests.get(f'{sdw2023_api_url}/users/{id}')\n",
    "    return response.json() if response.status_code == 200 else None"
   ]
  },
  {
   "cell_type": "markdown",
   "metadata": {},
   "source": [
    "### Extract"
   ]
  },
  {
   "cell_type": "code",
   "execution_count": 40,
   "metadata": {},
   "outputs": [
    {
     "data": {
      "text/plain": [
       "[4732, 4734, 4735]"
      ]
     },
     "execution_count": 40,
     "metadata": {},
     "output_type": "execute_result"
    }
   ],
   "source": [
    "df = pd.read_csv('assets/SDW2023.csv')\n",
    "user_ids = df['UserID'].tolist()\n",
    "user_ids"
   ]
  },
  {
   "cell_type": "code",
   "execution_count": 41,
   "metadata": {},
   "outputs": [
    {
     "name": "stdout",
     "output_type": "stream",
     "text": [
      "[\n",
      "  {\n",
      "    \"id\": 4732,\n",
      "    \"name\": \"Raimunda\",\n",
      "    \"account\": {\n",
      "      \"id\": 5013,\n",
      "      \"number\": \"00123-4\",\n",
      "      \"agency\": \"0555\",\n",
      "      \"balance\": 0.0,\n",
      "      \"limit\": 500.0\n",
      "    },\n",
      "    \"card\": {\n",
      "      \"id\": 4595,\n",
      "      \"number\": \"1452 2578 4521 1000\",\n",
      "      \"limit\": 1000.0\n",
      "    },\n",
      "    \"features\": [],\n",
      "    \"news\": []\n",
      "  },\n",
      "  {\n",
      "    \"id\": 4734,\n",
      "    \"name\": \"Renata Ingrata\",\n",
      "    \"account\": {\n",
      "      \"id\": 5015,\n",
      "      \"number\": \"00125-4\",\n",
      "      \"agency\": \"0555\",\n",
      "      \"balance\": 0.0,\n",
      "      \"limit\": 500.0\n",
      "    },\n",
      "    \"card\": {\n",
      "      \"id\": 4597,\n",
      "      \"number\": \"1452 2578 4521 10010\",\n",
      "      \"limit\": 1000.0\n",
      "    },\n",
      "    \"features\": [],\n",
      "    \"news\": []\n",
      "  },\n",
      "  {\n",
      "    \"id\": 4735,\n",
      "    \"name\": \"Jo\\u00e3o do Caminh\\u00e3o\",\n",
      "    \"account\": {\n",
      "      \"id\": 5016,\n",
      "      \"number\": \"00126-4\",\n",
      "      \"agency\": \"0555\",\n",
      "      \"balance\": 0.0,\n",
      "      \"limit\": 500.0\n",
      "    },\n",
      "    \"card\": {\n",
      "      \"id\": 4598,\n",
      "      \"number\": \"1452 2578 4521 10016\",\n",
      "      \"limit\": 1000.0\n",
      "    },\n",
      "    \"features\": [],\n",
      "    \"news\": []\n",
      "  }\n",
      "]\n"
     ]
    }
   ],
   "source": [
    "users = [user for id in user_ids if (user := get_user(id)) is not None]\n",
    "print(json.dumps(users, indent=2))"
   ]
  }
 ],
 "metadata": {
  "kernelspec": {
   "display_name": "venv",
   "language": "python",
   "name": "python3"
  },
  "language_info": {
   "codemirror_mode": {
    "name": "ipython",
    "version": 3
   },
   "file_extension": ".py",
   "mimetype": "text/x-python",
   "name": "python",
   "nbconvert_exporter": "python",
   "pygments_lexer": "ipython3",
   "version": "3.10.12"
  }
 },
 "nbformat": 4,
 "nbformat_minor": 2
}
